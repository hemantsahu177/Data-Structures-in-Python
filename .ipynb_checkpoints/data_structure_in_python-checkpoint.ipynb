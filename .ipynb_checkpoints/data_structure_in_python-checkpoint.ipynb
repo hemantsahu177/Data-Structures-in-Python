{
 "cells": [
  {
   "cell_type": "code",
   "execution_count": 1,
   "id": "61859e8e-0c85-4716-9361-c25c07f6d632",
   "metadata": {},
   "outputs": [
    {
     "data": {
      "text/plain": [
       "'sllikswp'"
      ]
     },
     "execution_count": 1,
     "metadata": {},
     "output_type": "execute_result"
    }
   ],
   "source": [
    "# 1. Write a code to reverse a string.\n",
    "\n",
    "# code\n",
    "\n",
    "string=\"pwskills\"\n",
    "string[::-1]"
   ]
  },
  {
   "cell_type": "code",
   "execution_count": 2,
   "id": "dd472d3f-3711-41e4-9446-d223ee6dc929",
   "metadata": {},
   "outputs": [
    {
     "name": "stdout",
     "output_type": "stream",
     "text": [
      "Number of vowels in the string: 5\n"
     ]
    }
   ],
   "source": [
    "# 2. Write a code to count the number of vowels in a string.\n",
    "\n",
    "# code\n",
    "\n",
    "string = \"Data Science\"\n",
    "vowels = \"aeiouAEIOU\"\n",
    "count = 0\n",
    "\n",
    "for char in string:\n",
    "    if char in vowels:\n",
    "        count += 1\n",
    "\n",
    "print(\"Number of vowels in the string:\", count)\n"
   ]
  },
  {
   "cell_type": "code",
   "execution_count": 3,
   "id": "fd752027-ce0c-46e9-b3c3-9512e7214e9e",
   "metadata": {},
   "outputs": [
    {
     "name": "stdin",
     "output_type": "stream",
     "text": [
      "Enter a string:  hello\n"
     ]
    },
    {
     "name": "stdout",
     "output_type": "stream",
     "text": [
      "It's not a palindrome.\n"
     ]
    }
   ],
   "source": [
    "# 3. Write a code to check if a given string is a palindrome or not.\n",
    "\n",
    "# code\n",
    "s = input(\"Enter a string: \")\n",
    "\n",
    "s = s.lower()\n",
    "\n",
    "if s == s[::-1]:\n",
    "    print(\"It's a palindrome!\")\n",
    "else:\n",
    "    print(\"It's not a palindrome.\")\n"
   ]
  },
  {
   "cell_type": "code",
   "execution_count": 3,
   "id": "23be0bfa-148d-4bcd-a984-db0069956b45",
   "metadata": {},
   "outputs": [
    {
     "name": "stdin",
     "output_type": "stream",
     "text": [
      "Enter the first string:  Hello\n",
      "Enter the second string:  Good morning \n"
     ]
    },
    {
     "name": "stdout",
     "output_type": "stream",
     "text": [
      "The strings are not anagrams.\n"
     ]
    }
   ],
   "source": [
    "# 4. Write a code to check if two given strings are anagrams of each other\n",
    "\n",
    "# code\n",
    "str1 = input(\"Enter the first string: \").lower()\n",
    "str2 = input(\"Enter the second string: \").lower()\n",
    "\n",
    "# Check if sorted characters of both strings are equal\n",
    "if sorted(str1.replace(\" \", \"\")) == sorted(str2.replace(\" \", \"\")):\n",
    "    print(\"The strings are anagrams of each other!\")\n",
    "else:\n",
    "    print(\"The strings are not anagrams.\")\n"
   ]
  },
  {
   "cell_type": "code",
   "execution_count": 2,
   "id": "3397185f-1967-4981-af81-2413df3500c4",
   "metadata": {},
   "outputs": [
    {
     "name": "stdin",
     "output_type": "stream",
     "text": [
      "Enter the main string:  pwskills\n",
      "Enter the substring to search for:  pw\n"
     ]
    },
    {
     "name": "stdout",
     "output_type": "stream",
     "text": [
      "The substring 'pw' occurs at the following indices:\n",
      "[0]\n"
     ]
    }
   ],
   "source": [
    "# 5. Write a code to find all occurrences of a given substring within another string.\n",
    "\n",
    "# code\n",
    "main_string = input(\"Enter the main string: \")\n",
    "substring = input(\"Enter the substring to search for: \")\n",
    "\n",
    "occurrences = [i for i in range(len(main_string)) if main_string.startswith(substring, i)]\n",
    "\n",
    "if occurrences:\n",
    "    print(f\"The substring '{substring}' occurs at the following indices:\")\n",
    "    print(occurrences)\n",
    "else:\n",
    "    print(f\"The substring '{substring}' does not occur in the main string.\")\n",
    "\n"
   ]
  },
  {
   "cell_type": "code",
   "execution_count": 4,
   "id": "635b06fc-f559-4d18-a594-9a4d05f7f88c",
   "metadata": {},
   "outputs": [
    {
     "name": "stdout",
     "output_type": "stream",
     "text": [
      " string: aabcccccaaa\n",
      "Compressed string: a2b1c5a3\n"
     ]
    }
   ],
   "source": [
    "# 6. Write a code to perform basic string compression using the counts of repeated characters\n",
    "\n",
    "# code\n",
    "\n",
    "s = \"aabcccccaaa\"\n",
    "\n",
    "compressed = \"\"  \n",
    "count = 1        \n",
    "\n",
    "for i in range(len(s)):\n",
    "    if i < len(s)-1 and s[i] == s[i+1]:\n",
    "        count += 1\n",
    "    else:\n",
    "        compressed += s[i] + str(count)\n",
    "        count = 1  \n",
    "\n",
    "if len(compressed) >= len(s):\n",
    "    compressed = s\n",
    "\n",
    "print(\" string:\", s)\n",
    "print(\"Compressed string:\", compressed)\n",
    "\n"
   ]
  },
  {
   "cell_type": "code",
   "execution_count": 5,
   "id": "fac69c1d-be7b-42d8-ba48-78237ee202a0",
   "metadata": {},
   "outputs": [
    {
     "name": "stdout",
     "output_type": "stream",
     "text": [
      "True\n"
     ]
    }
   ],
   "source": [
    "# 7. Write a code to determine if a string has all unique characters.\n",
    "\n",
    "\n",
    "# code\n",
    "string = \"abcdefg\"\n",
    "seen = set()\n",
    "is_unique = True\n",
    "\n",
    "for char in string:\n",
    "    if char in seen:\n",
    "        is_unique = False\n",
    "        break\n",
    "    seen.add(char)\n",
    "\n",
    "print(is_unique)"
   ]
  },
  {
   "cell_type": "code",
   "execution_count": 6,
   "id": "288f9bbc-717d-4b14-bae4-e8315cea0d7d",
   "metadata": {},
   "outputs": [
    {
     "name": "stdin",
     "output_type": "stream",
     "text": [
      "Enter a string:  The cm\n",
      "Convert to uppercase or lowercase?  uppercase\n"
     ]
    },
    {
     "name": "stdout",
     "output_type": "stream",
     "text": [
      "Converted string: THE CM\n"
     ]
    }
   ],
   "source": [
    "# 8. Write a code to convert a given string to uppercase or lowercase.\n",
    "\n",
    "\n",
    "# code\n",
    "string = input(\"Enter a string: \")\n",
    "option = input(\"Convert to uppercase or lowercase? \")\n",
    "\n",
    "if option.lower() == 'uppercase':\n",
    "    convert = string.upper()\n",
    "elif option.lower() == 'lowercase':\n",
    "    convert = string.lower()\n",
    "else:\n",
    "    convert = \"Invalid option. Please choose 'uppercase' or 'lowercase'.\"\n",
    "\n",
    "print(\"Converted string:\", convert)"
   ]
  },
  {
   "cell_type": "code",
   "execution_count": 7,
   "id": "1b5e1814-a72f-4cf0-b3cf-433050ef2fca",
   "metadata": {},
   "outputs": [
    {
     "name": "stdout",
     "output_type": "stream",
     "text": [
      "Number of words: 3\n"
     ]
    }
   ],
   "source": [
    "# 9. Write a code to count the number of words in a string.\n",
    "\n",
    "# code\n",
    "sentence = \"how are you.\"\n",
    "words = sentence.split()\n",
    "num_words = len(words)\n",
    "print(\"Number of words:\", num_words)"
   ]
  },
  {
   "cell_type": "code",
   "execution_count": 8,
   "id": "7915d1a1-ef85-40cb-ba41-03104ef8f4fa",
   "metadata": {},
   "outputs": [
    {
     "name": "stdout",
     "output_type": "stream",
     "text": [
      "pwskills\n"
     ]
    }
   ],
   "source": [
    "# 10. Write a code to concatenate two strings without using the + operator.\n",
    "\n",
    "\n",
    "# code\n",
    "str1 = \"pw\"\n",
    "str2 = \"skills\"\n",
    "\n",
    "concatenated_string = \"\"\n",
    "for char in str1:\n",
    "    concatenated_string += char\n",
    "for char in str2:\n",
    "    concatenated_string += char\n",
    "\n",
    "print(concatenated_string)"
   ]
  },
  {
   "cell_type": "code",
   "execution_count": 9,
   "id": "1e82cc8a-ea74-4b2d-82dd-464114b6bba9",
   "metadata": {},
   "outputs": [
    {
     "name": "stdout",
     "output_type": "stream",
     "text": [
      "Modified list after removing all occurrences of 2 : [1, 3, 4, 5]\n"
     ]
    }
   ],
   "source": [
    "# 11. Write a code to remove all occurrences of a specific element from a list.\n",
    "\n",
    "\n",
    "# code\n",
    "original_list = [1, 2, 3, 4, 2, 5, 2]\n",
    "element_to_remove = 2\n",
    "\n",
    "while element_to_remove in original_list:\n",
    "    original_list.remove(element_to_remove)\n",
    "\n",
    "print(\"Modified list after removing all occurrences of\", element_to_remove, \":\", original_list)"
   ]
  },
  {
   "cell_type": "code",
   "execution_count": 10,
   "id": "d01e4bd0-4037-4c52-8fd4-45b8a90fbda8",
   "metadata": {},
   "outputs": [
    {
     "name": "stdin",
     "output_type": "stream",
     "text": [
      "Enter a list of numbers separated by space:  4 7 8 7 9 5 6\n"
     ]
    },
    {
     "name": "stdout",
     "output_type": "stream",
     "text": [
      "Second largest number: 8\n"
     ]
    }
   ],
   "source": [
    "# 12. Implement a code to find the second largest number in a given list of integers.\n",
    "\n",
    "\n",
    "# code\n",
    "user_input = input(\"Enter a list of numbers separated by space: \")\n",
    "my_list = [int(x) for x in user_input.split()]\n",
    "my_list.sort()\n",
    "\n",
    "if len(my_list) < 2:\n",
    "    print(\"List should contain at least two elements\")\n",
    "else:\n",
    "    print(\"Second largest number:\", my_list[-2])"
   ]
  },
  {
   "cell_type": "code",
   "execution_count": 12,
   "id": "f6142d23-b7ae-485c-8ee3-627a1a99cf21",
   "metadata": {},
   "outputs": [
    {
     "name": "stdout",
     "output_type": "stream",
     "text": [
      "Element counts: {1: 4, 2: 3, 3: 2, 4: 1, 5: 1}\n"
     ]
    }
   ],
   "source": [
    "# 13. Create a code to count the occurrences of each element in a list and return a dictionary with elements keys and their counts as values.\n",
    "\n",
    "\n",
    "# code\n",
    "my_list = [1, 2, 3, 4, 5, 1, 2, 3, 1, 2, 1]\n",
    "\n",
    "counts = {}\n",
    "\n",
    "for element in my_list:\n",
    "    if element in counts:\n",
    "        counts[element] += 1\n",
    "    else:\n",
    "        counts[element] = 1\n",
    "\n",
    "print(\"Element counts:\", counts)"
   ]
  },
  {
   "cell_type": "code",
   "execution_count": 13,
   "id": "00f84e7b-8b0d-4ee3-bbfb-925c393dac3a",
   "metadata": {},
   "outputs": [
    {
     "data": {
      "text/plain": [
       "[5, 4, 3, 2, 1]"
      ]
     },
     "execution_count": 13,
     "metadata": {},
     "output_type": "execute_result"
    }
   ],
   "source": [
    "# 14. Write a code to reverse a list in-place without using any built-in reverse functions.\n",
    "\n",
    "# code\n",
    "\n",
    "my_list = [1, 2, 3, 4, 5]\n",
    "\n",
    "my_list[::-1]"
   ]
  },
  {
   "cell_type": "code",
   "execution_count": 14,
   "id": "154b8bc4-beda-4c79-a2e3-c9bd5ed28e27",
   "metadata": {},
   "outputs": [
    {
     "name": "stdout",
     "output_type": "stream",
     "text": [
      "List without duplicates: [1, 2, 3, 4, 5, 6]\n"
     ]
    }
   ],
   "source": [
    "# 15. Implement a code to find and remove duplicates from a list while preserving the original order of elements.\n",
    "\n",
    "\n",
    "# code\n",
    "my_list = [1, 2, 3, 2, 4, 3, 5, 6, 1]\n",
    "\n",
    "unique_elements = set()\n",
    "\n",
    "result_list = []\n",
    "\n",
    "for item in my_list:\n",
    "    if item not in unique_elements:\n",
    "        result_list.append(item)\n",
    "        unique_elements.add(item)\n",
    "\n",
    "print(\"List without duplicates:\", result_list)\n",
    "\n",
    "\n",
    "\n"
   ]
  },
  {
   "cell_type": "code",
   "execution_count": 15,
   "id": "eca173d4-ff66-49a2-a197-950d6c475462",
   "metadata": {},
   "outputs": [
    {
     "name": "stdout",
     "output_type": "stream",
     "text": [
      "The list is sorted in descending order.\n"
     ]
    }
   ],
   "source": [
    "# 16. Create a code to check if a given list is sorted (either in ascending or descending order) or not.\n",
    "\n",
    "\n",
    "# code\n",
    "\n",
    "my_list =[4,3,2,1]\n",
    "\n",
    "if all(my_list[i] <= my_list[i + 1] for i in range(len(my_list) - 1)):\n",
    "    print(\"The list is sorted in ascending order.\")\n",
    "elif all(my_list[i] >= my_list[i + 1] for i in range(len(my_list) - 1)):\n",
    "    print(\"The list is sorted in descending order.\")\n",
    "else:\n",
    "    print(\"The list is not sorted.\")\n"
   ]
  },
  {
   "cell_type": "code",
   "execution_count": 16,
   "id": "66de237b-f5e7-4c9e-b50c-8e1b94b6a5f9",
   "metadata": {},
   "outputs": [
    {
     "name": "stdout",
     "output_type": "stream",
     "text": [
      "Merged list: [1, 2, 3, 4, 5, 6, 7, 8]\n"
     ]
    }
   ],
   "source": [
    "# 17. Write a code to merge two sorted lists into a single sorted list.\n",
    "\n",
    "\n",
    "# code\n",
    "list1 = [1, 3, 5, 7]\n",
    "list2 = [2, 4, 6, 8]\n",
    "merged_list = []\n",
    "i = 0\n",
    "j = 0\n",
    "while i < len(list1) and j < len(list2):\n",
    "    if list1[i] < list2[j]:\n",
    "        merged_list.append(list1[i])\n",
    "        i += 1\n",
    "    else:\n",
    "        merged_list.append(list2[j])\n",
    "        j += 1\n",
    "while i < len(list1):\n",
    "    merged_list.append(list1[i])\n",
    "    i += 1\n",
    "while j < len(list2):\n",
    "    merged_list.append(list2[j])\n",
    "    j += 1\n",
    "print(\"Merged list:\", merged_list)\n"
   ]
  },
  {
   "cell_type": "code",
   "execution_count": 17,
   "id": "4bb5476b-6adc-490e-a1d2-24e32c6c6934",
   "metadata": {},
   "outputs": [
    {
     "name": "stdout",
     "output_type": "stream",
     "text": [
      "Intersection of the two lists: [3, 4, 5]\n"
     ]
    }
   ],
   "source": [
    "# 18. Implement a code to find the intersection of two given lists.\n",
    "\n",
    "\n",
    "# code\n",
    "\n",
    "list1 = [1, 2, 3, 4, 5]\n",
    "list2 = [3, 4, 5, 6, 7]\n",
    "intersection = []\n",
    "for item in list1:\n",
    "    if item in list2 and item not in intersection:\n",
    "        intersection.append(item)\n",
    "print(\"Intersection of the two lists:\", intersection)\n"
   ]
  },
  {
   "cell_type": "code",
   "execution_count": 18,
   "id": "503e526f-5d6b-433a-ad34-e7990df06ee1",
   "metadata": {},
   "outputs": [
    {
     "name": "stdout",
     "output_type": "stream",
     "text": [
      "the union of two lists without duplicates [1, 2, 3, 5, 6, 7, 8, 9, 10, 45]\n"
     ]
    }
   ],
   "source": [
    "# 19. Create a code to find the union of two lists without duplicates.\n",
    "\n",
    "\n",
    "# code\n",
    "\n",
    "list1=[1,2,3,45,6,7]\n",
    "list2=[5,6,7,8,9,10]\n",
    "\n",
    "union_list=set(list1+list2)\n",
    "union_list=list(union_list)\n",
    "\n",
    "print(\"the union of two lists without duplicates\",union_list)"
   ]
  },
  {
   "cell_type": "code",
   "execution_count": 21,
   "id": "3cd4ba9d-1590-4a42-9b0e-098158d0240f",
   "metadata": {},
   "outputs": [
    {
     "name": "stdout",
     "output_type": "stream",
     "text": [
      "Shuffled list: [1, 3, 4, 5, 2]\n"
     ]
    }
   ],
   "source": [
    "# 20. Write a code to shuffle a given list randomly without using any built-in shuffle functions.\n",
    "\n",
    "# code\n",
    "given_list = [1, 2, 3, 4, 5]\n",
    "\n",
    "length = len(given_list)\n",
    "for i in range(length):\n",
    "   \n",
    "    temp = given_list[i]\n",
    "    random_index = i  \n",
    "    while random_index == i:  \n",
    "        random_index = (random_index + 1) % length  \n",
    "    given_list[i] = given_list[random_index]\n",
    "    given_list[random_index] = temp\n",
    "\n",
    "print(\"Shuffled list:\", given_list)\n",
    "\n"
   ]
  },
  {
   "cell_type": "code",
   "execution_count": 23,
   "id": "a3d0e81b-696e-4a1f-9684-7254e66c02c0",
   "metadata": {},
   "outputs": [
    {
     "name": "stdin",
     "output_type": "stream",
     "text": [
      "Enter elements of the first tuple separated by spaces:  4 5 7 8 9 4 5\n",
      "Enter elements of the second tuple separated by spaces:  1 2 3 4 5 6 9\n"
     ]
    },
    {
     "name": "stdout",
     "output_type": "stream",
     "text": [
      "Common elements: ('9', '4', '5')\n"
     ]
    }
   ],
   "source": [
    "# 21. Write a code that takes two tuples as input and returns a new tuple containing elements that are common to both input tuples.\n",
    "\n",
    "\n",
    "# code\n",
    "tuple1 = tuple(input(\"Enter elements of the first tuple separated by spaces: \").split())\n",
    "tuple2 = tuple(input(\"Enter elements of the second tuple separated by spaces: \").split())\n",
    "\n",
    "set1 = set(tuple1)\n",
    "set2 = set(tuple2)\n",
    "\n",
    "common_elements = set1.intersection(set2)\n",
    "\n",
    "result_tuple = tuple(common_elements)\n",
    "\n",
    "print(\"Common elements:\", result_tuple)\n"
   ]
  },
  {
   "cell_type": "code",
   "execution_count": 25,
   "id": "321e51f8-a8bd-4b6c-89e8-bc26ef5f1fe5",
   "metadata": {},
   "outputs": [
    {
     "name": "stdin",
     "output_type": "stream",
     "text": [
      "Enter the first set of integers separated by space:  1 4 5 8 9 7\n",
      "Enter the second set of integers separated by space:  0 2 5 8 7 4\n"
     ]
    },
    {
     "name": "stdout",
     "output_type": "stream",
     "text": [
      "Intersection of the two sets: {8, 4, 5, 7}\n"
     ]
    }
   ],
   "source": [
    "# 22. Create a code that prompts the user to enter two sets of integers separated by commas. Then, print the intersection of these two sets.\n",
    "\n",
    "\n",
    "# CODE\n",
    "\n",
    "set1_input = input(\"Enter the first set of integers separated by space: \")\n",
    "set2_input = input(\"Enter the second set of integers separated by space: \")\n",
    "set1 = set(int(x) for x in set1_input.split(' '))\n",
    "set2 = set(int(x) for x in set2_input.split(' '))\n",
    "intersection = set1 & set2\n",
    "print(\"Intersection of the two sets:\", intersection)\n"
   ]
  },
  {
   "cell_type": "code",
   "execution_count": 26,
   "id": "cdbea18c-f360-4bda-8e0d-8ed6a9a93dc7",
   "metadata": {},
   "outputs": [
    {
     "name": "stdout",
     "output_type": "stream",
     "text": [
      "Concatenated tuple: (1, 2, 3, 4, 5, 6)\n"
     ]
    }
   ],
   "source": [
    "# 23. Write a code to concatenate two tuples. The function should take two tuples as input and return a new tuple containing elements from both input tuples.\n",
    "\n",
    "# code\n",
    "tuple1 = (1, 2, 3)\n",
    "tuple2 = (4, 5, 6)\n",
    "\n",
    "concatenated_tuple = tuple1 + tuple2\n",
    "\n",
    "print(\"Concatenated tuple:\", concatenated_tuple)\n"
   ]
  },
  {
   "cell_type": "code",
   "execution_count": 27,
   "id": "7336ff09-c6fe-49fa-a83a-f73eb186e03a",
   "metadata": {},
   "outputs": [
    {
     "name": "stdin",
     "output_type": "stream",
     "text": [
      "Enter the first set of strings separated by space:  10 45 78 55 56\n",
      "Enter the second set of strings separated by space:  41 40 10 75 55\n"
     ]
    },
    {
     "name": "stdout",
     "output_type": "stream",
     "text": [
      "Elements present in the first set but not in the second set: {'56', '78', '45'}\n"
     ]
    }
   ],
   "source": [
    "# 24. Develop a code that prompts the user to input two sets of strings. Then, print the elements that are present in the first set but not in the second set.\n",
    "\n",
    "# code\n",
    "set1_input = input(\"Enter the first set of strings separated by space: \")\n",
    "set2_input = input(\"Enter the second set of strings separated by space: \")\n",
    "\n",
    "set1 = set(set1_input.split(' '))\n",
    "set2 = set(set2_input.split(' '))\n",
    "\n",
    "difference = set1 - set2\n",
    "\n",
    "print(\"Elements present in the first set but not in the second set:\", difference)\n"
   ]
  },
  {
   "cell_type": "code",
   "execution_count": 28,
   "id": "8717bac1-d60d-4eea-a0a1-5574673142d6",
   "metadata": {},
   "outputs": [
    {
     "name": "stdin",
     "output_type": "stream",
     "text": [
      "Enter elements of the tuple separated by spaces:  1 2 4 5 8 \n",
      "Enter the start index:  2\n",
      "Enter the end index:  5\n"
     ]
    },
    {
     "name": "stdout",
     "output_type": "stream",
     "text": [
      "Resulting tuple: ('4', '5', '8')\n"
     ]
    }
   ],
   "source": [
    "# 25. Create a code that takes a tuple and two integers as input. The function should return a new tuple containing elements from the original tuple within the specified range of indices.\n",
    "\n",
    "# code\n",
    "\n",
    "input_tuple = tuple(input(\"Enter elements of the tuple separated by spaces: \").split())\n",
    "\n",
    "start_index = int(input(\"Enter the start index: \"))\n",
    "end_index = int(input(\"Enter the end index: \"))\n",
    "\n",
    "if start_index < 0:\n",
    "    start_index = 0\n",
    "\n",
    "if end_index > len(input_tuple) - 1:\n",
    "    end_index = len(input_tuple) - 1\n",
    "\n",
    "result_tuple = input_tuple[start_index:end_index+1]\n",
    "\n",
    "print(\"Resulting tuple:\", result_tuple)\n"
   ]
  },
  {
   "cell_type": "code",
   "execution_count": 29,
   "id": "d33d0626-aefb-40c5-b10f-227fccb24461",
   "metadata": {},
   "outputs": [
    {
     "name": "stdin",
     "output_type": "stream",
     "text": [
      "Enter the first set of characters separated by space:  a b c d f\n",
      "Enter the second set of characters separated by space:  g h b n m\n"
     ]
    },
    {
     "name": "stdout",
     "output_type": "stream",
     "text": [
      "Union of the two sets: {'m', 'c', 'n', 'g', 'b', 'd', 'a', 'f', 'h'}\n"
     ]
    }
   ],
   "source": [
    "# 26. Write a code that prompts the user to input two sets of characters. Then, print the union of these two sets.\n",
    "\n",
    "# code\n",
    "\n",
    "set1_input = input(\"Enter the first set of characters separated by space: \")\n",
    "set2_input = input(\"Enter the second set of characters separated by space: \")\n",
    "set1 = set(set1_input.split(' '))\n",
    "set2 = set(set2_input.split(' '))\n",
    "\n",
    "union = set1.union(set2)\n",
    "\n",
    "print(\"Union of the two sets:\", union)\n"
   ]
  },
  {
   "cell_type": "code",
   "execution_count": 30,
   "id": "4a0648ce-0a50-4315-9c62-9cc3e6195630",
   "metadata": {},
   "outputs": [
    {
     "name": "stdin",
     "output_type": "stream",
     "text": [
      "Enter a tuple of integers separated by space:  7 8 5 9 6 4 1\n"
     ]
    },
    {
     "name": "stdout",
     "output_type": "stream",
     "text": [
      "Maximum value: 9\n",
      "Minimum value: 1\n"
     ]
    }
   ],
   "source": [
    "# 27. Develop a code that takes a tuple of integers as input. The function should return the maximum and minimum values from the tuple using tuple unpacking.\n",
    "\n",
    "# code\n",
    "tuple_input = input(\"Enter a tuple of integers separated by space: \")\n",
    "\n",
    "input_tuple = tuple(int(x) for x in tuple_input.split(' '))\n",
    "\n",
    "max_val = max(input_tuple)\n",
    "min_val = min(input_tuple)\n",
    "\n",
    "print(\"Maximum value:\", max_val)\n",
    "print(\"Minimum value:\", min_val)\n",
    "\n"
   ]
  },
  {
   "cell_type": "code",
   "execution_count": 31,
   "id": "046298a6-9106-4d21-8c00-8b7d32531972",
   "metadata": {},
   "outputs": [
    {
     "name": "stdout",
     "output_type": "stream",
     "text": [
      "Set 1: {1, 2, 3, 4, 5}\n",
      "Set 2: {4, 5, 6, 7, 8}\n",
      "Union: {1, 2, 3, 4, 5, 6, 7, 8}\n",
      "Intersection: {4, 5}\n",
      "Difference (set1 - set2): {1, 2, 3}\n",
      "Difference (set2 - set1): {8, 6, 7}\n"
     ]
    }
   ],
   "source": [
    "# 28.Create a code that defines two sets of integers. Then, print the union, intersection, and difference of these two sets.\n",
    "\n",
    "\n",
    "# code\n",
    "\n",
    "set1 = {1, 2, 3, 4, 5}\n",
    "set2 = {4, 5, 6, 7, 8}\n",
    "\n",
    "print(\"Set 1:\", set1)\n",
    "print(\"Set 2:\", set2)\n",
    "\n",
    "print(\"Union:\", set1.union(set2))\n",
    "\n",
    "print(\"Intersection:\", set1.intersection(set2))\n",
    "\n",
    "print(\"Difference (set1 - set2):\", set1.difference(set2))\n",
    "\n",
    "print(\"Difference (set2 - set1):\", set2.difference(set1))\n"
   ]
  },
  {
   "cell_type": "code",
   "execution_count": 32,
   "id": "92575522-5de3-468d-ab4b-c51b2e8ef835",
   "metadata": {},
   "outputs": [
    {
     "name": "stdin",
     "output_type": "stream",
     "text": [
      "Enter elements of the tuple separated by spaces:  4 5 7 8 5\n",
      "Enter the element to count:  5\n"
     ]
    },
    {
     "name": "stdout",
     "output_type": "stream",
     "text": [
      "Occurrences of 5 in the tuple: 2\n"
     ]
    }
   ],
   "source": [
    "# 29. Write a code that takes a tuple and an element as input. The function should return the count of occurrences of the given element in the tuple.\n",
    "\n",
    "\n",
    "\n",
    "# code\n",
    "\n",
    "input_tuple = tuple(input(\"Enter elements of the tuple separated by spaces: \").split())\n",
    "\n",
    "element = input(\"Enter the element to count: \")\n",
    "\n",
    "count = 0\n",
    "for item in input_tuple:\n",
    "    if item == element:\n",
    "        count += 1\n",
    "\n",
    "print(\"Occurrences of\", element, \"in the tuple:\", count)\n"
   ]
  },
  {
   "cell_type": "code",
   "execution_count": 33,
   "id": "a7551b9e-4980-4e95-966e-a1870d4ff8c5",
   "metadata": {},
   "outputs": [
    {
     "name": "stdin",
     "output_type": "stream",
     "text": [
      "Enter elements of the first set separated by spaces:  78 95 85 78 55 55\n",
      "Enter elements of the second set separated by spaces:  10 22 10 10 45 46\n"
     ]
    },
    {
     "name": "stdout",
     "output_type": "stream",
     "text": [
      "Symmetric Difference of the two sets: {'46', '22', '55', '10', '95', '85', '78', '45'}\n"
     ]
    }
   ],
   "source": [
    "# 30. Develop a code that prompts the user to input two sets of strings. Then, print the symmetric difference of these two sets.\n",
    "\n",
    "# code\n",
    "\n",
    "set1 = set(input(\"Enter elements of the first set separated by spaces: \").split())\n",
    "\n",
    "set2 = set(input(\"Enter elements of the second set separated by spaces: \").split())\n",
    "\n",
    "symmetric_diff = set1.symmetric_difference(set2)\n",
    "\n",
    "print(\"Symmetric Difference of the two sets:\", symmetric_diff)\n"
   ]
  },
  {
   "cell_type": "code",
   "execution_count": 34,
   "id": "bc6109fb-c871-4713-aae5-0919422a8942",
   "metadata": {},
   "outputs": [
    {
     "name": "stdin",
     "output_type": "stream",
     "text": [
      "Enter a list of words separated by spaces:  Apple Grapes Banana\n"
     ]
    },
    {
     "name": "stdout",
     "output_type": "stream",
     "text": [
      "Dictionary with word frequencies:\n",
      "{'Apple': 1, 'Grapes': 1, 'Banana': 1}\n"
     ]
    }
   ],
   "source": [
    "# 31. Write a code that takes a list of words as input and returns a dictionary where the keys are unique words and the values are the frequencies of those words in the input list.\n",
    "\n",
    "# code\n",
    "\n",
    "word_list = input(\"Enter a list of words separated by spaces: \").split()\n",
    "\n",
    "word_freq = {}\n",
    "\n",
    "for word in word_list:\n",
    "    if word in word_freq:\n",
    "        word_freq[word] += 1\n",
    "    else:\n",
    "        word_freq[word] = 1\n",
    "print(\"Dictionary with word frequencies:\")\n",
    "print(word_freq)\n"
   ]
  },
  {
   "cell_type": "code",
   "execution_count": 37,
   "id": "425e7ddb-f347-4c23-9e6f-7f106fd09627",
   "metadata": {},
   "outputs": [
    {
     "name": "stdin",
     "output_type": "stream",
     "text": [
      "Enter the first dictionary (in the format {'key1': value1, 'key2': value2}):  {'Banana': 2, 'Apple': 4}\n",
      "Enter the second dictionary (in the format {'key1': value1, 'key2': value2}):  {'Patato': 1, 'Onion': 2}\n"
     ]
    },
    {
     "name": "stdout",
     "output_type": "stream",
     "text": [
      "Merged dictionary with added values for common keys:\n",
      "{'Banana': 2, 'Apple': 4, 'Patato': 1, 'Onion': 2}\n"
     ]
    }
   ],
   "source": [
    "# 32. Write a code that takes two dictionaries as input and merges them into a single dictionary. If there are common keys, the values should be added together.\n",
    "\n",
    "\n",
    "# code\n",
    "\n",
    "dict1 = eval(input(\"Enter the first dictionary (in the format {'key1': value1, 'key2': value2}): \"))\n",
    "\n",
    "dict2 = eval(input(\"Enter the second dictionary (in the format {'key1': value1, 'key2': value2}): \"))\n",
    "\n",
    "merged_dict = dict1.copy()\n",
    "for key, value in dict2.items():\n",
    "    if key in merged_dict:\n",
    "        merged_dict[key] += value\n",
    "    else:\n",
    "        merged_dict[key] = value\n",
    "\n",
    "print(\"Merged dictionary with added values for common keys:\")\n",
    "print(merged_dict)\n"
   ]
  },
  {
   "cell_type": "code",
   "execution_count": 38,
   "id": "fc4d593a-eb5b-46cc-a104-dca9c9077b6a",
   "metadata": {},
   "outputs": [
    {
     "name": "stdout",
     "output_type": "stream",
     "text": [
      "Value: 5\n"
     ]
    }
   ],
   "source": [
    "# 33. Write a code to access a value in a nested dictionary. The function should take the dictionary and a list of keys as input, and return the corresponding value. If any of the keys do not exist in the dictionary, the function should return None.\n",
    "\n",
    "\n",
    "# code\n",
    "\n",
    "nested_dict = {'a': {'b': {'c': 5}}}\n",
    "\n",
    "keys = ['a', 'b', 'c']\n",
    "\n",
    "current_dict = nested_dict\n",
    "for key in keys:\n",
    "    if key in current_dict:\n",
    "        current_dict = current_dict[key]\n",
    "    else:\n",
    "        print(\"None\")\n",
    "        break\n",
    "else:\n",
    "    print(\"Value:\", current_dict)\n"
   ]
  },
  {
   "cell_type": "code",
   "execution_count": 40,
   "id": "31736430-b081-4fea-83f6-82943087013c",
   "metadata": {},
   "outputs": [
    {
     "name": "stdin",
     "output_type": "stream",
     "text": [
      "Enter a dictionary (in the format {'key1': value1, 'key2': value2}):   {'AIML': 30, 'CS': 40,'IT':22}\n",
      "Enter 'asc' for ascending order or 'desc' for descending order:  ascending order\n"
     ]
    },
    {
     "name": "stdout",
     "output_type": "stream",
     "text": [
      "{'IT': 22, 'AIML': 30, 'CS': 40}\n"
     ]
    }
   ],
   "source": [
    "# 34. Write a code that takes a dictionary as input and returns a sorted version of it based on the values. You can choose whether to sort in ascending or descending order.\n",
    "\n",
    "# code\n",
    "input_dict = eval(input(\"Enter a dictionary (in the format {'key1': value1, 'key2': value2}): \"))\n",
    "\n",
    "sort_order = input(\"Enter 'asc' for ascending order or 'desc' for descending order: \")\n",
    "\n",
    "sorted_dict = dict(sorted(input_dict.items(), key=lambda item: item[1], reverse=(sort_order.lower() == 'desc')))\n",
    "\n",
    "if sort_order.lower() == 'asc':\n",
    "    print(\"Sorted dictionary based on values in ascending order:\")\n",
    "elif sort_order.lower() == 'desc':\n",
    "    print(\"Sorted dictionary based on values in descending order:\")\n",
    "print(sorted_dict)\n",
    "\n"
   ]
  },
  {
   "cell_type": "code",
   "execution_count": 42,
   "id": "b820c26b-61d0-4756-a27a-c0c8df9bece8",
   "metadata": {},
   "outputs": [
    {
     "name": "stdout",
     "output_type": "stream",
     "text": [
      "Inverted dictionary:\n",
      "{1: ['apple', 'orange'], 2: ['banana', 'grape']}\n"
     ]
    }
   ],
   "source": [
    "# 35. Write a code that inverts a dictionary, swapping keys and values. Ensure that the inverted dictionary correctly handles cases where multiple keys have the same value by storing the keys as a list in the inverted dictionary.\n",
    "\n",
    "\n",
    "# code\n",
    "\n",
    "input_dict = {'apple': 1, 'banana': 2, 'orange': 1, 'grape': 2}\n",
    "\n",
    "inverted_dict = {}\n",
    "for key, value in input_dict.items():\n",
    "    if value in inverted_dict:\n",
    "        inverted_dict[value].append(key)\n",
    "    else:\n",
    "        inverted_dict[value] = [key]\n",
    "\n",
    "print(\"Inverted dictionary:\")\n",
    "print(inverted_dict)\n"
   ]
  }
 ],
 "metadata": {
  "kernelspec": {
   "display_name": "Python 3 (ipykernel)",
   "language": "python",
   "name": "python3"
  },
  "language_info": {
   "codemirror_mode": {
    "name": "ipython",
    "version": 3
   },
   "file_extension": ".py",
   "mimetype": "text/x-python",
   "name": "python",
   "nbconvert_exporter": "python",
   "pygments_lexer": "ipython3",
   "version": "3.10.8"
  }
 },
 "nbformat": 4,
 "nbformat_minor": 5
}
